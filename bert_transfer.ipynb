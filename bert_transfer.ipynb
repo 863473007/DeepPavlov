{
 "cells": [
  {
   "cell_type": "markdown",
   "metadata": {},
   "source": [
    "# The BERT Cross-Lingual Transferability"
   ]
  },
  {
   "cell_type": "markdown",
   "metadata": {},
   "source": [
    "The idea and some preliminary results described [here](https://towardsdatascience.com/bert-based-cross-lingual-question-answering-with-deeppavlov-704242c2ac6f?source=friends_link&sk=b7aef1c29b8a8f067fe62e3bfbea2292)\n",
    "\n",
    "Basically we have pretrained on English SquAD dataset QA model. The model is based on multilingual BERT, which means it allows cross-language transfer learning. Our task is measure to what extend BERT-based QA (and not only QA) models transfers to other languages (Russia)."
   ]
  },
  {
   "cell_type": "code",
   "execution_count": null,
   "metadata": {},
   "outputs": [],
   "source": [
    "!git clone --single-branch --branch squad_multilingual_configs_size git@github.com:deepmipt/DeepPavlov.git"
   ]
  },
  {
   "cell_type": "code",
   "execution_count": null,
   "metadata": {},
   "outputs": [],
   "source": [
    "from deeppavlov import build_model, configs\n",
    "\n",
    "model = build_model(configs.squad.squad_bert, download=True)"
   ]
  },
  {
   "cell_type": "code",
   "execution_count": 18,
   "metadata": {},
   "outputs": [
    {
     "data": {
      "text/plain": [
       "PosixPath('/home/com/Shared/DeepPavlov/deeppavlov/configs/classifiers/insults_kaggle_bert.json')"
      ]
     },
     "execution_count": 18,
     "metadata": {},
     "output_type": "execute_result"
    }
   ],
   "source": [
    "configs.classifiers.insults_kaggle_bert"
   ]
  },
  {
   "cell_type": "code",
   "execution_count": null,
   "metadata": {},
   "outputs": [],
   "source": [
    "model(['Su área de distribución comprende casi toda Sudamérica al este de los Andes en las \\\n",
    "       cuencas del río Orinoco, del Amazonas y del Río de la Plata; cubriendo desde el este \\\n",
    "       de Venezuela y la Guyana hasta Uruguay y el norte y centro de Argentina. Pueden vivir \\\n",
    "       en diferentes tipos de hábitat, pero muestran preferencia por algunos en concreto. \\\n",
    "       Suelen encontrarse cerca de lagos, ríos, marismas o manglares.'], \n",
    "      ['What countries do capybara live in?'])"
   ]
  },
  {
   "cell_type": "code",
   "execution_count": null,
   "metadata": {},
   "outputs": [
    {
     "name": "stderr",
     "output_type": "stream",
     "text": [
      "2020-03-25 15:47:09.720 INFO in 'deeppavlov.core.data.utils'['utils'] at line 80: Downloading from http://files.deeppavlov.ai/datasets/insults_data.tar.gz to /home/com/.deeppavlov/insults_data.tar.gz\n",
      "I0325 15:47:09.720526 140265741584192 utils.py:80] Downloading from http://files.deeppavlov.ai/datasets/insults_data.tar.gz to /home/com/.deeppavlov/insults_data.tar.gz\n",
      "100%|██████████| 682k/682k [00:00<00:00, 14.6MB/s]\n",
      "2020-03-25 15:47:09.775 INFO in 'deeppavlov.core.data.utils'['utils'] at line 237: Extracting /home/com/.deeppavlov/insults_data.tar.gz archive into /home/com/.deeppavlov/downloads\n",
      "I0325 15:47:09.775905 140265741584192 utils.py:237] Extracting /home/com/.deeppavlov/insults_data.tar.gz archive into /home/com/.deeppavlov/downloads\n",
      "2020-03-25 15:47:09.867 INFO in 'deeppavlov.core.data.utils'['utils'] at line 80: Downloading from http://files.deeppavlov.ai/deeppavlov_data/classifiers/insults_kaggle_v3.tar.gz to /home/com/.deeppavlov/models/insults_kaggle_v3.tar.gz\n",
      "I0325 15:47:09.867498 140265741584192 utils.py:80] Downloading from http://files.deeppavlov.ai/deeppavlov_data/classifiers/insults_kaggle_v3.tar.gz to /home/com/.deeppavlov/models/insults_kaggle_v3.tar.gz\n",
      "100%|██████████| 804M/804M [00:13<00:00, 59.1MB/s] \n",
      "2020-03-25 15:47:23.470 INFO in 'deeppavlov.core.data.utils'['utils'] at line 237: Extracting /home/com/.deeppavlov/models/insults_kaggle_v3.tar.gz archive into /home/com/.deeppavlov/models/classifiers\n",
      "I0325 15:47:23.470649 140265741584192 utils.py:237] Extracting /home/com/.deeppavlov/models/insults_kaggle_v3.tar.gz archive into /home/com/.deeppavlov/models/classifiers\n"
     ]
    }
   ],
   "source": [
    "from deeppavlov.core.common.file import read_json\n",
    "from deeppavlov import configs, train_model, evaluate_model\n",
    "# from deeppavlov.core.commands.train import train_evaluate_model_from_config\n",
    "from deeppavlov import train_model \n",
    "\n",
    "\n",
    "\n",
    "# model_config = read_json(configs.squad.ru_on_mbert_1000)\n",
    "\n",
    "# train_evaluate_model_from_config(configs.squad.ru_on_mbert_1000)\n",
    "#                                  to_train=True, download=True)\n",
    "\n",
    "\n",
    "\n",
    "# model = train_model(configs.squad.squad_bert, download=True)\n",
    "model = train_model(configs.classifiers.insults_kaggle_bert, download=True)\n",
    "# model = build_model(configs.squad.ru_on_mbert_1000, download=True, load_trained=False)"
   ]
  },
  {
   "cell_type": "code",
   "execution_count": null,
   "metadata": {},
   "outputs": [],
   "source": []
  }
 ],
 "metadata": {
  "kernelspec": {
   "display_name": "Python 3",
   "language": "python",
   "name": "python3"
  },
  "language_info": {
   "codemirror_mode": {
    "name": "ipython",
    "version": 3
   },
   "file_extension": ".py",
   "mimetype": "text/x-python",
   "name": "python",
   "nbconvert_exporter": "python",
   "pygments_lexer": "ipython3",
   "version": "3.6.9"
  }
 },
 "nbformat": 4,
 "nbformat_minor": 4
}
