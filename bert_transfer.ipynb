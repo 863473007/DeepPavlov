{
 "cells": [
  {
   "cell_type": "markdown",
   "metadata": {},
   "source": [
    "# The BERT Cross-Lingual Transferability"
   ]
  },
  {
   "cell_type": "markdown",
   "metadata": {},
   "source": [
    "The idea and some preliminary results described [here](https://towardsdatascience.com/bert-based-cross-lingual-question-answering-with-deeppavlov-704242c2ac6f?source=friends_link&sk=b7aef1c29b8a8f067fe62e3bfbea2292)\n",
    "\n",
    "Basically we have a BERT-based QA model pretrained on English SquAD dataset. The model is based on multilingual BERT, which means it allows cross-language transfer learning. Our task is measure to what extend BERT-based QA (and not only QA) models transfers to other languages (Russia?)(Chinese?).\n",
    "\n",
    "Nowadays, exploring the BERT cross-lingual transferability is a very competitive field. That's why we need to think very carefully before starting doing something. Meanwhile the most promising idea is to build  learning curves, which means train M-BERT model on freely available English data then gradually adding training instances from the scarce language specific datasets (for English and Chinese) and compare between this model and the model trained solely on the limit number of instances.\n",
    "\n",
    "Useful material:\n",
    "\n",
    "0) https://arxiv.org/pdf/1910.04659.pdf \n",
    "\n",
    "1) https://arxiv.org/abs/1906.01502\n",
    "\n",
    "2) https://arxiv.org/abs/1904.09077\n",
    "\n",
    "3) https://arxiv.org/abs/1806.00920\n",
    "\n",
    "4) https://arxiv.org/abs/1810.04805\n",
    "\n",
    "5) https://arxiv.org/abs/1912.09723\n",
    "\n",
    "This is a starter notebook it shows how to set up experiments with DeepPavlov. It should be ready to run on Colab. It might contains some issues so please feel free to improve."
   ]
  },
  {
   "cell_type": "code",
   "execution_count": null,
   "metadata": {},
   "outputs": [],
   "source": [
    "!git clone --single-branch --branch squad_multilingual_configs_size git@github.com:deepmipt/DeepPavlov.git"
   ]
  },
  {
   "cell_type": "code",
   "execution_count": null,
   "metadata": {},
   "outputs": [],
   "source": [
    "!pip install -e DeepPavlov/."
   ]
  },
  {
   "cell_type": "code",
   "execution_count": null,
   "metadata": {},
   "outputs": [],
   "source": [
    "!python -m deeppavlov install trans_en_mbert"
   ]
  },
  {
   "cell_type": "code",
   "execution_count": null,
   "metadata": {},
   "outputs": [],
   "source": [
    "# we need to clean up the data because we want to train from the beggining\n",
    "!rm -rf ~/.deeppavlov"
   ]
  },
  {
   "cell_type": "code",
   "execution_count": null,
   "metadata": {},
   "outputs": [],
   "source": [
    "from deeppavlov.core.common.file import read_json\n",
    "from deeppavlov import configs, train_model, evaluate_model\n",
    "from deeppavlov.core.commands.train import train_evaluate_model_from_config\n",
    "from deeppavlov import train_model \n",
    "\n",
    "# MBERT-based model for English squad\n",
    "cfg_mbert_ensquad = read_json(configs.squad.trans_en_mbert)\n",
    "\n",
    "# MBERT-based model for Russian squad\n",
    "cfg_mbert_rusquad = read_json(configs.squad.trans_ru_mbert)\n",
    "\n",
    "# MBERT-based model for Chinese squad\n",
    "cfg_mbert_zhsquad = read_json(configs.squad.squad_zh_bert_mult)\n",
    "\n",
    "# Chinese-BERT-based model for Chinese squad\n",
    "cfg_zhbert_zhquad = read_json(configs.squad.squad_zh_bert_zh)\n",
    "\n",
    "# Russia-BERT-based model for Russia squad\n",
    "cfg_rubert_rusquad = read_json(configs.squad.squad_ru_rubert_infer)\n",
    "cfg_rubert_rusquad = read_json(configs.squad.squad_ru_rubert)\n",
    "\n",
    "# define how many instances to use\n",
    "cfg_mbert_rusquad['dataset_iterator']['port'] = 10000\n",
    "\n",
    "train_evaluate_model_from_config(cfg_mbert_rusquad, to_train=True, download=True)\n",
    "\n",
    "# model = train_model(cfg_mbert_rusquad, download=True)\n",
    "# model = train_model(configs.classifiers.insults_kaggle_bert, download=True)\n",
    "# model = build_model(configs.squad.ru_on_mbert_1000, download=True, load_trained=False)"
   ]
  },
  {
   "cell_type": "code",
   "execution_count": 1,
   "metadata": {},
   "outputs": [],
   "source": [
    "model(['Su área de distribución comprende casi toda Sudamérica al este de los Andes en las \\\n",
    "       cuencas del río Orinoco, del Amazonas y del Río de la Plata; cubriendo desde el este \\\n",
    "       de Venezuela y la Guyana hasta Uruguay y el norte y centro de Argentina. Pueden vivir \\\n",
    "       en diferentes tipos de hábitat, pero muestran preferencia por algunos en concreto. \\\n",
    "       Suelen encontrarse cerca de lagos, ríos, marismas o manglares.'], \n",
    "      ['What countries do capybara live in?'])"
   ]
  }
 ],
 "metadata": {
  "kernelspec": {
   "display_name": "Python 3",
   "language": "python",
   "name": "python3"
  },
  "language_info": {
   "codemirror_mode": {
    "name": "ipython",
    "version": 3
   },
   "file_extension": ".py",
   "mimetype": "text/x-python",
   "name": "python",
   "nbconvert_exporter": "python",
   "pygments_lexer": "ipython3",
   "version": "3.6.9"
  }
 },
 "nbformat": 4,
 "nbformat_minor": 4
}
