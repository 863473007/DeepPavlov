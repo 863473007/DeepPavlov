{
 "cells": [
  {
   "cell_type": "markdown",
   "metadata": {},
   "source": [
    "# The BERT Cross-Lingual Transferability"
   ]
  },
  {
   "cell_type": "markdown",
   "metadata": {},
   "source": [
    "The idea and some preliminary results described [here](https://towardsdatascience.com/bert-based-cross-lingual-question-answering-with-deeppavlov-704242c2ac6f?source=friends_link&sk=b7aef1c29b8a8f067fe62e3bfbea2292)\n",
    "\n",
    "Basically we have pretrained on English SquAD dataset QA model. The model is based on multilingual BERT, which means it allows cross-language transfer learning. Our task is measure to what extend BERT-based QA (and not only QA) models transfers to other languages (Russia)."
   ]
  },
  {
   "cell_type": "code",
   "execution_count": null,
   "metadata": {},
   "outputs": [],
   "source": [
    "!git clone --single-branch --branch squad_multilingual_configs_size git@github.com:deepmipt/DeepPavlov.git"
   ]
  },
  {
   "cell_type": "code",
   "execution_count": null,
   "metadata": {},
   "outputs": [],
   "source": [
    "from deeppavlov import build_model, configs\n",
    "\n",
    "model = build_model(configs.squad.squad_bert, download=True)"
   ]
  },
  {
   "cell_type": "code",
   "execution_count": null,
   "metadata": {},
   "outputs": [],
   "source": [
    "model(['Su área de distribución comprende casi toda Sudamérica al este de los Andes en las \\\n",
    "       cuencas del río Orinoco, del Amazonas y del Río de la Plata; cubriendo desde el este \\\n",
    "       de Venezuela y la Guyana hasta Uruguay y el norte y centro de Argentina. Pueden vivir \\\n",
    "       en diferentes tipos de hábitat, pero muestran preferencia por algunos en concreto. \\\n",
    "       Suelen encontrarse cerca de lagos, ríos, marismas o manglares.'], \n",
    "      ['What countries do capybara live in?'])"
   ]
  },
  {
   "cell_type": "code",
   "execution_count": null,
   "metadata": {},
   "outputs": [],
   "source": [
    "from deeppavlov.core.common.file import read_json\n",
    "from deeppavlov import configs, train_model, evaluate_model\n",
    "from deeppavlov.core.commands.train import train_evaluate_model_from_config\n",
    "\n",
    "\n",
    "# model_config = read_json(configs.squad.ru_on_mbert_1000)\n",
    "train_evaluate_model_from_config(configs.squad.squad, to_train=True, download=True)"
   ]
  }
 ],
 "metadata": {
  "kernelspec": {
   "display_name": "Python 3",
   "language": "python",
   "name": "python3"
  },
  "language_info": {
   "codemirror_mode": {
    "name": "ipython",
    "version": 3
   },
   "file_extension": ".py",
   "mimetype": "text/x-python",
   "name": "python",
   "nbconvert_exporter": "python",
   "pygments_lexer": "ipython3",
   "version": "3.6.9"
  }
 },
 "nbformat": 4,
 "nbformat_minor": 4
}
