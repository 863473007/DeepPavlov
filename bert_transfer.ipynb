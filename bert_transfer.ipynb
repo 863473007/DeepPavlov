{
 "cells": [
  {
   "cell_type": "markdown",
   "metadata": {},
   "source": [
    "# The BERT Cross-Lingual Transferability"
   ]
  },
  {
   "cell_type": "markdown",
   "metadata": {},
   "source": [
    "The idea and some preliminary results described [here](https://towardsdatascience.com/bert-based-cross-lingual-question-answering-with-deeppavlov-704242c2ac6f?source=friends_link&sk=b7aef1c29b8a8f067fe62e3bfbea2292)\n",
    "\n",
    "Basically we have a BERT-based QA model pretrained on English SquAD dataset. The model is based on multilingual BERT, which means it allows cross-language transfer learning. Our task is measure to what extend BERT-based QA (and not only QA) models transfers to other languages (Russia?)(Chinese?).\n",
    "\n",
    "Nowadays, exploring the BERT cross-lingual transferability is a very competitive field.  \n",
    "\n",
    "Useful material:\n",
    "\n",
    "0) https://arxiv.org/pdf/1910.04659.pdf (highly relevant)\n",
    "* but seems like the experiemnts are not advanced enough\n",
    "\n",
    "1) https://arxiv.org/abs/1906.01502\n",
    "\n",
    "2) https://arxiv.org/abs/1904.09077\n",
    "\n",
    "3) https://arxiv.org/abs/1806.00920\n",
    "\n",
    "4) https://arxiv.org/abs/1810.04805\n",
    "\n",
    "5) https://arxiv.org/abs/1912.09723"
   ]
  },
  {
   "cell_type": "code",
   "execution_count": null,
   "metadata": {},
   "outputs": [],
   "source": [
    "!git clone --single-branch --branch squad_multilingual_configs_size git@github.com:deepmipt/DeepPavlov.git"
   ]
  },
  {
   "cell_type": "code",
   "execution_count": null,
   "metadata": {},
   "outputs": [],
   "source": [
    "!pip install -e DeepPavlov/."
   ]
  },
  {
   "cell_type": "code",
   "execution_count": null,
   "metadata": {},
   "outputs": [],
   "source": [
    "!python -m deeppavlov download squad_tweet_convBERT\n",
    "!python -m deeppavlov install squad_tweet_convBERT"
   ]
  },
  {
   "cell_type": "code",
   "execution_count": null,
   "metadata": {},
   "outputs": [],
   "source": [
    "from deeppavlov import build_model, configs\n",
    "\n",
    "model = build_model(configs.squad.squad_bert, download=True)"
   ]
  },
  {
   "cell_type": "code",
   "execution_count": 18,
   "metadata": {},
   "outputs": [
    {
     "data": {
      "text/plain": [
       "PosixPath('/home/com/Shared/DeepPavlov/deeppavlov/configs/classifiers/insults_kaggle_bert.json')"
      ]
     },
     "execution_count": 18,
     "metadata": {},
     "output_type": "execute_result"
    }
   ],
   "source": [
    "configs.classifiers.insults_kaggle_bert"
   ]
  },
  {
   "cell_type": "code",
   "execution_count": null,
   "metadata": {},
   "outputs": [],
   "source": [
    "model(['Su área de distribución comprende casi toda Sudamérica al este de los Andes en las \\\n",
    "       cuencas del río Orinoco, del Amazonas y del Río de la Plata; cubriendo desde el este \\\n",
    "       de Venezuela y la Guyana hasta Uruguay y el norte y centro de Argentina. Pueden vivir \\\n",
    "       en diferentes tipos de hábitat, pero muestran preferencia por algunos en concreto. \\\n",
    "       Suelen encontrarse cerca de lagos, ríos, marismas o manglares.'], \n",
    "      ['What countries do capybara live in?'])"
   ]
  },
  {
   "cell_type": "code",
   "execution_count": 1,
   "metadata": {},
   "outputs": [
    {
     "name": "stderr",
     "output_type": "stream",
     "text": [
      "2020-03-25 16:13:50.290 INFO in 'deeppavlov.download'['download'] at line 117: Skipped http://files.deeppavlov.ai/deeppavlov_data/squad_bert.tar.gz download because of matching hashes\n",
      "2020-03-25 16:13:50.824 INFO in 'deeppavlov.download'['download'] at line 117: Skipped http://files.deeppavlov.ai/deeppavlov_data/bert/cased_L-12_H-768_A-12.zip download because of matching hashes\n"
     ]
    },
    {
     "name": "stdout",
     "output_type": "stream",
     "text": [
      "LOADING......\n"
     ]
    },
    {
     "name": "stderr",
     "output_type": "stream",
     "text": [
      "2020-03-25 16:13:51.437 WARNING in 'deeppavlov.core.commands.train'['train'] at line 108: \"validate_best\" and \"test_best\" parameters are deprecated. Please, use \"evaluation_targets\" list instead\n",
      "2020-03-25 16:13:51.443 INFO in 'deeppavlov.core.trainers.fit_trainer'['fit_trainer'] at line 68: NNTrainer got additional init parameters ['pytest_max_batches', 'pytest_batch_size'] that will be ignored:\n"
     ]
    },
    {
     "name": "stdout",
     "output_type": "stream",
     "text": [
      "previous len 87599\n",
      "new len 87599\n"
     ]
    },
    {
     "name": "stderr",
     "output_type": "stream",
     "text": [
      "/home/com/miniconda2/envs/py36/lib/python3.6/site-packages/tensorflow/python/framework/dtypes.py:516: FutureWarning: Passing (type, 1) or '1type' as a synonym of type is deprecated; in a future version of numpy, it will be understood as (type, (1,)) / '(1,)type'.\n",
      "  _np_qint8 = np.dtype([(\"qint8\", np.int8, 1)])\n",
      "/home/com/miniconda2/envs/py36/lib/python3.6/site-packages/tensorflow/python/framework/dtypes.py:517: FutureWarning: Passing (type, 1) or '1type' as a synonym of type is deprecated; in a future version of numpy, it will be understood as (type, (1,)) / '(1,)type'.\n",
      "  _np_quint8 = np.dtype([(\"quint8\", np.uint8, 1)])\n",
      "/home/com/miniconda2/envs/py36/lib/python3.6/site-packages/tensorflow/python/framework/dtypes.py:518: FutureWarning: Passing (type, 1) or '1type' as a synonym of type is deprecated; in a future version of numpy, it will be understood as (type, (1,)) / '(1,)type'.\n",
      "  _np_qint16 = np.dtype([(\"qint16\", np.int16, 1)])\n",
      "/home/com/miniconda2/envs/py36/lib/python3.6/site-packages/tensorflow/python/framework/dtypes.py:519: FutureWarning: Passing (type, 1) or '1type' as a synonym of type is deprecated; in a future version of numpy, it will be understood as (type, (1,)) / '(1,)type'.\n",
      "  _np_quint16 = np.dtype([(\"quint16\", np.uint16, 1)])\n",
      "/home/com/miniconda2/envs/py36/lib/python3.6/site-packages/tensorflow/python/framework/dtypes.py:520: FutureWarning: Passing (type, 1) or '1type' as a synonym of type is deprecated; in a future version of numpy, it will be understood as (type, (1,)) / '(1,)type'.\n",
      "  _np_qint32 = np.dtype([(\"qint32\", np.int32, 1)])\n",
      "/home/com/miniconda2/envs/py36/lib/python3.6/site-packages/tensorflow/python/framework/dtypes.py:525: FutureWarning: Passing (type, 1) or '1type' as a synonym of type is deprecated; in a future version of numpy, it will be understood as (type, (1,)) / '(1,)type'.\n",
      "  np_resource = np.dtype([(\"resource\", np.ubyte, 1)])\n",
      "/home/com/miniconda2/envs/py36/lib/python3.6/site-packages/tensorboard/compat/tensorflow_stub/dtypes.py:541: FutureWarning: Passing (type, 1) or '1type' as a synonym of type is deprecated; in a future version of numpy, it will be understood as (type, (1,)) / '(1,)type'.\n",
      "  _np_qint8 = np.dtype([(\"qint8\", np.int8, 1)])\n",
      "/home/com/miniconda2/envs/py36/lib/python3.6/site-packages/tensorboard/compat/tensorflow_stub/dtypes.py:542: FutureWarning: Passing (type, 1) or '1type' as a synonym of type is deprecated; in a future version of numpy, it will be understood as (type, (1,)) / '(1,)type'.\n",
      "  _np_quint8 = np.dtype([(\"quint8\", np.uint8, 1)])\n",
      "/home/com/miniconda2/envs/py36/lib/python3.6/site-packages/tensorboard/compat/tensorflow_stub/dtypes.py:543: FutureWarning: Passing (type, 1) or '1type' as a synonym of type is deprecated; in a future version of numpy, it will be understood as (type, (1,)) / '(1,)type'.\n",
      "  _np_qint16 = np.dtype([(\"qint16\", np.int16, 1)])\n",
      "/home/com/miniconda2/envs/py36/lib/python3.6/site-packages/tensorboard/compat/tensorflow_stub/dtypes.py:544: FutureWarning: Passing (type, 1) or '1type' as a synonym of type is deprecated; in a future version of numpy, it will be understood as (type, (1,)) / '(1,)type'.\n",
      "  _np_quint16 = np.dtype([(\"quint16\", np.uint16, 1)])\n",
      "/home/com/miniconda2/envs/py36/lib/python3.6/site-packages/tensorboard/compat/tensorflow_stub/dtypes.py:545: FutureWarning: Passing (type, 1) or '1type' as a synonym of type is deprecated; in a future version of numpy, it will be understood as (type, (1,)) / '(1,)type'.\n",
      "  _np_qint32 = np.dtype([(\"qint32\", np.int32, 1)])\n",
      "/home/com/miniconda2/envs/py36/lib/python3.6/site-packages/tensorboard/compat/tensorflow_stub/dtypes.py:550: FutureWarning: Passing (type, 1) or '1type' as a synonym of type is deprecated; in a future version of numpy, it will be understood as (type, (1,)) / '(1,)type'.\n",
      "  np_resource = np.dtype([(\"resource\", np.ubyte, 1)])\n",
      "WARNING: Logging before flag parsing goes to stderr.\n",
      "W0325 16:13:52.434823 139838231336768 deprecation_wrapper.py:119] From /home/com/Shared/DeepPavlov/deeppavlov/core/trainers/nn_trainer.py:149: The name tf.summary.FileWriter is deprecated. Please use tf.compat.v1.summary.FileWriter instead.\n",
      "\n",
      "[nltk_data] Downloading package punkt to /home/com/nltk_data...\n",
      "[nltk_data]   Package punkt is already up-to-date!\n",
      "[nltk_data] Downloading package stopwords to /home/com/nltk_data...\n",
      "[nltk_data]   Package stopwords is already up-to-date!\n",
      "[nltk_data] Downloading package perluniprops to /home/com/nltk_data...\n",
      "[nltk_data]   Package perluniprops is already up-to-date!\n",
      "[nltk_data] Downloading package nonbreaking_prefixes to\n",
      "[nltk_data]     /home/com/nltk_data...\n",
      "[nltk_data]   Package nonbreaking_prefixes is already up-to-date!\n",
      "W0325 16:13:54.664969 139838231336768 deprecation_wrapper.py:119] From /home/com/miniconda2/envs/py36/lib/python3.6/site-packages/bert_dp/tokenization.py:125: The name tf.gfile.GFile is deprecated. Please use tf.io.gfile.GFile instead.\n",
      "\n",
      "W0325 16:13:54.724072 139838231336768 deprecation_wrapper.py:119] From /home/com/Shared/DeepPavlov/deeppavlov/core/models/tf_model.py:37: The name tf.Session is deprecated. Please use tf.compat.v1.Session instead.\n",
      "\n",
      "W0325 16:13:54.725075 139838231336768 deprecation_wrapper.py:119] From /home/com/Shared/DeepPavlov/deeppavlov/core/models/tf_model.py:222: The name tf.placeholder is deprecated. Please use tf.compat.v1.placeholder instead.\n",
      "\n",
      "W0325 16:13:54.725610 139838231336768 deprecation_wrapper.py:119] From /home/com/Shared/DeepPavlov/deeppavlov/core/models/tf_model.py:222: The name tf.train.Optimizer is deprecated. Please use tf.compat.v1.train.Optimizer instead.\n",
      "\n",
      "W0325 16:13:54.738253 139838231336768 deprecation_wrapper.py:119] From /home/com/Shared/DeepPavlov/deeppavlov/core/models/tf_model.py:193: The name tf.train.AdamOptimizer is deprecated. Please use tf.compat.v1.train.AdamOptimizer instead.\n",
      "\n",
      "W0325 16:13:54.743377 139838231336768 deprecation_wrapper.py:119] From /home/com/Shared/DeepPavlov/deeppavlov/models/bert/bert_squad.py:86: The name tf.ConfigProto is deprecated. Please use tf.compat.v1.ConfigProto instead.\n",
      "\n",
      "W0325 16:13:55.112028 139838231336768 deprecation_wrapper.py:119] From /home/com/Shared/DeepPavlov/deeppavlov/models/bert/bert_squad.py:195: The name tf.placeholder_with_default is deprecated. Please use tf.compat.v1.placeholder_with_default instead.\n",
      "\n",
      "W0325 16:13:55.129802 139838231336768 deprecation_wrapper.py:119] From /home/com/miniconda2/envs/py36/lib/python3.6/site-packages/bert_dp/modeling.py:178: The name tf.variable_scope is deprecated. Please use tf.compat.v1.variable_scope instead.\n",
      "\n",
      "W0325 16:13:55.526644 139838231336768 lazy_loader.py:50] \n",
      "The TensorFlow contrib module will not be included in TensorFlow 2.0.\n",
      "For more information, please see:\n",
      "  * https://github.com/tensorflow/community/blob/master/rfcs/20180907-contrib-sunset.md\n",
      "  * https://github.com/tensorflow/addons\n",
      "  * https://github.com/tensorflow/io (for I/O related ops)\n",
      "If you depend on functionality not listed there, please file an issue.\n",
      "\n",
      "W0325 16:13:55.538319 139838231336768 deprecation.py:506] From /home/com/miniconda2/envs/py36/lib/python3.6/site-packages/bert_dp/modeling.py:366: calling dropout (from tensorflow.python.ops.nn_ops) with keep_prob is deprecated and will be removed in a future version.\n",
      "Instructions for updating:\n",
      "Please use `rate` instead of `keep_prob`. Rate should be set to `rate = 1 - keep_prob`.\n",
      "W0325 16:13:55.564895 139838231336768 deprecation.py:323] From /home/com/miniconda2/envs/py36/lib/python3.6/site-packages/bert_dp/modeling.py:680: dense (from tensorflow.python.layers.core) is deprecated and will be removed in a future version.\n",
      "Instructions for updating:\n",
      "Use keras.layers.dense instead.\n",
      "W0325 16:13:57.268463 139838231336768 deprecation.py:323] From /home/com/Shared/DeepPavlov/deeppavlov/models/bert/bert_squad.py:182: softmax_cross_entropy_with_logits (from tensorflow.python.ops.nn_ops) is deprecated and will be removed in a future version.\n",
      "Instructions for updating:\n",
      "\n",
      "Future major versions of TensorFlow will allow gradients to flow\n",
      "into the labels input on backprop by default.\n",
      "\n",
      "See `tf.nn.softmax_cross_entropy_with_logits_v2`.\n",
      "\n",
      "W0325 16:13:57.296245 139838231336768 deprecation_wrapper.py:119] From /home/com/Shared/DeepPavlov/deeppavlov/core/models/tf_model.py:234: The name tf.train.AdadeltaOptimizer is deprecated. Please use tf.compat.v1.train.AdadeltaOptimizer instead.\n",
      "\n",
      "W0325 16:14:05.714121 139838231336768 deprecation.py:323] From /home/com/Shared/DeepPavlov/deeppavlov/models/bert/bert_squad.py:99: checkpoint_exists (from tensorflow.python.training.checkpoint_management) is deprecated and will be removed in a future version.\n",
      "Instructions for updating:\n",
      "Use standard file APIs to check for files with this prefix.\n",
      "2020-03-25 16:14:05.716 INFO in 'deeppavlov.core.models.tf_model'['tf_model'] at line 51: [loading model from /home/com/.deeppavlov/models/squad_bert/model]\n",
      "I0325 16:14:05.716176 139838231336768 tf_model.py:51] [loading model from /home/com/.deeppavlov/models/squad_bert/model]\n",
      "W0325 16:14:05.717585 139838231336768 deprecation_wrapper.py:119] From /home/com/Shared/DeepPavlov/deeppavlov/core/models/tf_model.py:54: The name tf.train.Saver is deprecated. Please use tf.compat.v1.train.Saver instead.\n",
      "\n",
      "2020-03-25 16:18:09.410 INFO in 'deeppavlov.core.trainers.nn_trainer'['nn_trainer'] at line 198: Initial best squad_v1_f1 of 88.4918\n",
      "I0325 16:18:09.410802 139838231336768 nn_trainer.py:198] Initial best squad_v1_f1 of 88.4918\n"
     ]
    },
    {
     "name": "stdout",
     "output_type": "stream",
     "text": [
      "{\"valid\": {\"eval_examples_count\": 10570, \"metrics\": {\"squad_v1_f1\": 88.4918, \"squad_v1_em\": 80.8828, \"squad_v2_f1\": 88.2996, \"squad_v2_em\": 80.7001}, \"time_spent\": \"0:04:03\", \"epochs_done\": 0, \"batches_seen\": 0, \"train_examples_seen\": 0, \"impatience\": 0, \"patience_limit\": 10}}\n"
     ]
    },
    {
     "name": "stderr",
     "output_type": "stream",
     "text": [
      "2020-03-25 16:19:21.641 INFO in 'deeppavlov.core.trainers.nn_trainer'['nn_trainer'] at line 338: Stopped training\n",
      "I0325 16:19:21.641201 139838231336768 nn_trainer.py:338] Stopped training\n",
      "2020-03-25 16:19:32.158 INFO in 'deeppavlov.core.models.tf_model'['tf_model'] at line 51: [loading model from /home/com/.deeppavlov/models/squad_bert/model]\n",
      "I0325 16:19:32.158023 139838231336768 tf_model.py:51] [loading model from /home/com/.deeppavlov/models/squad_bert/model]\n"
     ]
    },
    {
     "name": "stdout",
     "output_type": "stream",
     "text": [
      "{\"valid\": {\"eval_examples_count\": 10570, \"metrics\": {\"squad_v1_f1\": 88.4918, \"squad_v1_em\": 80.8828, \"squad_v2_f1\": 88.2996, \"squad_v2_em\": 80.7001}, \"time_spent\": \"0:04:03\"}}\n"
     ]
    },
    {
     "name": "stderr",
     "output_type": "stream",
     "text": [
      "2020-03-25 16:23:46.4 INFO in 'deeppavlov.core.models.tf_model'['tf_model'] at line 51: [loading model from /home/com/.deeppavlov/models/squad_bert/model]\n",
      "I0325 16:23:46.004560 139838231336768 tf_model.py:51] [loading model from /home/com/.deeppavlov/models/squad_bert/model]\n"
     ]
    }
   ],
   "source": [
    "from deeppavlov.core.common.file import read_json\n",
    "from deeppavlov import configs, train_model, evaluate_model\n",
    "# from deeppavlov.core.commands.train import train_evaluate_model_from_config\n",
    "from deeppavlov import train_model \n",
    "\n",
    "\n",
    "\n",
    "# model_config = read_json(configs.squad.ru_on_mbert_1000)\n",
    "\n",
    "# train_evaluate_model_from_config(configs.squad.ru_on_mbert_1000)\n",
    "#                                  to_train=True, download=True)\n",
    "\n",
    "\n",
    "\n",
    "model = train_model(configs.squad.squad_bert, download=True)\n",
    "# model = train_model(configs.classifiers.insults_kaggle_bert, download=True)\n",
    "# model = build_model(configs.squad.ru_on_mbert_1000, download=True, load_trained=False)"
   ]
  },
  {
   "cell_type": "code",
   "execution_count": null,
   "metadata": {},
   "outputs": [],
   "source": []
  }
 ],
 "metadata": {
  "kernelspec": {
   "display_name": "Python 3",
   "language": "python",
   "name": "python3"
  },
  "language_info": {
   "codemirror_mode": {
    "name": "ipython",
    "version": 3
   },
   "file_extension": ".py",
   "mimetype": "text/x-python",
   "name": "python",
   "nbconvert_exporter": "python",
   "pygments_lexer": "ipython3",
   "version": "3.6.9"
  }
 },
 "nbformat": 4,
 "nbformat_minor": 4
}
